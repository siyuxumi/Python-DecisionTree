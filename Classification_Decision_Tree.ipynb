{
  "nbformat": 4,
  "nbformat_minor": 0,
  "metadata": {
    "colab": {
      "name": "Classification - Decision Tree",
      "provenance": [],
      "collapsed_sections": []
    },
    "kernelspec": {
      "name": "python3",
      "display_name": "Python 3"
    },
    "language_info": {
      "name": "python"
    }
  },
  "cells": [
    {
      "cell_type": "markdown",
      "metadata": {
        "id": "Zp3D8wIOH4bR"
      },
      "source": [
        "Import all the libraries you require in the cell below.\n",
        "\n"
      ]
    },
    {
      "cell_type": "code",
      "metadata": {
        "id": "72EyvzqAH6G_"
      },
      "source": [
        "# Enter your code here\n",
        "import numpy as np\n",
        "import pandas as pd\n",
        "import matplotlib.pyplot as plt\n",
        "import seaborn as sb"
      ],
      "execution_count": null,
      "outputs": []
    },
    {
      "cell_type": "markdown",
      "metadata": {
        "id": "TxCnZ-n3H0Wd"
      },
      "source": [
        "### 1. Build a classification model that predicts the edibility of mushrooms (class variable in the dataset). You have been provide with a dataset as a mushrooms.csv file. \n",
        "Here is a description of the attributes\n"
      ]
    },
    {
      "cell_type": "markdown",
      "metadata": {
        "id": "2WX2OwgOIHMd"
      },
      "source": [
        "Attribute description:\n",
        "1. cap-shape: bell=b,conical=c,convex=x,flat=f, knobbed=k,sunken=s \n",
        "2. cap-surface: fibrous=f,grooves=g,scaly=y,smooth=s \n",
        "3. cap-color: brown=n,buff=b,cinnamon=c,gray=g,green=r, pink=p,purple=u,red=e,white=w,yellow=y \n",
        "4. bruises?: bruises=t,no=f \n",
        "5. odor: almond=a,anise=l,creosote=c,fishy=y,foul=f, musty=m,none=n,pungent=p,spicy=s \n",
        "6. gill-attachment: attached=a,descending=d,free=f,notched=n \n",
        "7. gill-spacing: close=c,crowded=w,distant=d \n",
        "8. gill-size: broad=b,narrow=n \n",
        "9. gill-color: black=k,brown=n,buff=b,chocolate=h,gray=g, green=r,orange=o,pink=p,purple=u,red=e, white=w,yellow=y \n",
        "10. stalk-shape: enlarging=e,tapering=t \n",
        "11. stalk-root: bulbous=b,club=c,cup=u,equal=e, rhizomorphs=z,rooted=r,missing=? \n",
        "12. stalk-surface-above-ring: fibrous=f,scaly=y,silky=k,smooth=s \n",
        "13. stalk-surface-below-ring: fibrous=f,scaly=y,silky=k,smooth=s \n",
        "14. stalk-color-above-ring: brown=n,buff=b,cinnamon=c,gray=g,orange=o, pink=p,red=e,white=w,yellow=y \n",
        "15. stalk-color-below-ring: brown=n,buff=b,cinnamon=c,gray=g,orange=o, pink=p,red=e,white=w,yellow=y \n",
        "16. veil-type: partial=p,universal=u \n",
        "17. veil-color: brown=n,orange=o,white=w,yellow=y \n",
        "18. ring-number: none=n,one=o,two=t \n",
        "19. ring-type: cobwebby=c,evanescent=e,flaring=f,large=l, none=n,pendant=p,sheathing=s,zone=z \n",
        "20. spore-print-color: black=k,brown=n,buff=b,chocolate=h,green=r, orange=o,purple=u,white=w,yellow=y \n",
        "21. population: abundant=a,clustered=c,numerous=n, scattered=s,several=v,solitary=y \n",
        "22. habitat: grasses=g,leaves=l,meadows=m,paths=p, urban=u,waste=w,woods=d\n",
        "23. class: p = poisonous, e=edible\n"
      ]
    },
    {
      "cell_type": "markdown",
      "metadata": {
        "id": "LJeXdQymILSv"
      },
      "source": [
        "1. Build a classification tree. Random_state =2020. Training partition 0.7. stratify = y, max_depth = 6, use Entropy (8 marks)\n",
        "\n",
        "A. Read the dataset, explore it and determine what is the dependent variable (1 mark)\n",
        "\n",
        "B. Store the feature and target variable. (2 marks)\n",
        "\n",
        "C. Convert all categorical variables into dummy variables (1 mark)\n",
        "\n",
        "D. Partition the data into training and test sets (70/30) (1 mark)\n",
        "\n",
        "E. Fit the training data to a classification tree. (3 marks)"
      ]
    },
    {
      "cell_type": "code",
      "metadata": {
        "id": "Eme32RA0IKoR",
        "colab": {
          "base_uri": "https://localhost:8080/"
        },
        "outputId": "d6837cad-7254-4d97-fe5e-282d6e517021"
      },
      "source": [
        "# A. Read the dataset, explore it and determine what is the dependent variable (1 mark)\n",
        "pd.set_option('display.max_columns', None)\n",
        "pd.set_option('display.max_rows', 5)\n",
        "df = pd.read_csv('/content/mushrooms.csv')\n",
        "print(df)\n",
        "print(\"The dependent variable is 'class'.\")\n",
        "\n",
        "# # B. Store the feature and target variable. (2 marks)\n",
        "feature = df[['cap-shape','cap-surface','cap-color','bruises','odor',\n",
        "        'gill-attachment','gill-spacing','gill-size','gill-color',\n",
        "        'stalk-shape','stalk-root','stalk-surface-above-ring','stalk-surface-below-ring',\t\n",
        "        'stalk-color-above-ring',\t'stalk-color-below-ring',\t'veil-type','veil-color',\t\n",
        "        'ring-number','ring-type','spore-print-color','population',\t'habitat']]\n",
        "target = df['class'] \n",
        "\n",
        "# C. Convert all categorical variables into dummy variables (1 mark)\n",
        "df = pd.get_dummies(df, columns = ['cap-shape','cap-surface','cap-color','bruises',\n",
        "                                    'odor','gill-attachment','gill-spacing','gill-size','gill-color',\n",
        "                                    'stalk-shape','stalk-root','stalk-surface-above-ring','stalk-surface-below-ring',\t\n",
        "                                    'stalk-color-above-ring',\t'stalk-color-below-ring',\t'veil-type','veil-color',\t\n",
        "                                    'ring-number','ring-type','spore-print-color','population',\t'habitat'])\n",
        "\n",
        "# D. Partition the data into training and test sets (70/30) (1 mark)\n",
        "X = df.iloc[:, 1:]\n",
        "y = df.iloc[:, 0]\n",
        "\n",
        "from sklearn.model_selection import train_test_split\n",
        "X_train, X_test, y_train, y_test = train_test_split(X, y, test_size=0.3, random_state=2020, stratify=y1)\n",
        "\n",
        "\n",
        "# E. Fit the training data to a classification tree. (3 marks)\n",
        "from sklearn.tree import DecisionTreeClassifier\n",
        "dt = DecisionTreeClassifier(max_depth = 5, criterion='entropy', random_state=2020)\n",
        "dt.fit(X_train, y_train)"
      ],
      "execution_count": null,
      "outputs": [
        {
          "output_type": "stream",
          "text": [
            "     class cap-shape cap-surface cap-color bruises odor gill-attachment  \\\n",
            "0        p         x           s         n       t    p               f   \n",
            "1        e         x           s         y       t    a               f   \n",
            "...    ...       ...         ...       ...     ...  ...             ...   \n",
            "8122     p         k           y         n       f    y               f   \n",
            "8123     e         x           s         n       f    n               a   \n",
            "\n",
            "     gill-spacing gill-size gill-color stalk-shape stalk-root  \\\n",
            "0               c         n          k           e          e   \n",
            "1               c         b          k           e          c   \n",
            "...           ...       ...        ...         ...        ...   \n",
            "8122            c         n          b           t          ?   \n",
            "8123            c         b          y           e          ?   \n",
            "\n",
            "     stalk-surface-above-ring stalk-surface-below-ring stalk-color-above-ring  \\\n",
            "0                           s                        s                      w   \n",
            "1                           s                        s                      w   \n",
            "...                       ...                      ...                    ...   \n",
            "8122                        s                        k                      w   \n",
            "8123                        s                        s                      o   \n",
            "\n",
            "     stalk-color-below-ring veil-type veil-color ring-number ring-type  \\\n",
            "0                         w         p          w           o         p   \n",
            "1                         w         p          w           o         p   \n",
            "...                     ...       ...        ...         ...       ...   \n",
            "8122                      w         p          w           o         e   \n",
            "8123                      o         p          o           o         p   \n",
            "\n",
            "     spore-print-color population habitat  \n",
            "0                    k          s       u  \n",
            "1                    n          n       g  \n",
            "...                ...        ...     ...  \n",
            "8122                 w          v       l  \n",
            "8123                 o          c       l  \n",
            "\n",
            "[8124 rows x 23 columns]\n",
            "The dependent variable is 'class'.\n"
          ],
          "name": "stdout"
        },
        {
          "output_type": "execute_result",
          "data": {
            "text/plain": [
              "DecisionTreeClassifier(ccp_alpha=0.0, class_weight=None, criterion='entropy',\n",
              "                       max_depth=5, max_features=None, max_leaf_nodes=None,\n",
              "                       min_impurity_decrease=0.0, min_impurity_split=None,\n",
              "                       min_samples_leaf=1, min_samples_split=2,\n",
              "                       min_weight_fraction_leaf=0.0, presort='deprecated',\n",
              "                       random_state=2020, splitter='best')"
            ]
          },
          "metadata": {
            "tags": []
          },
          "execution_count": 372
        }
      ]
    },
    {
      "cell_type": "markdown",
      "metadata": {
        "id": "YB-2YFsOIUah"
      },
      "source": [
        "2. Print the confusion matrix. \n",
        "Also visualize the confusion matrix using plot_confusion_matrix from sklearn.metrics (3 marks)\n",
        "\n"
      ]
    },
    {
      "cell_type": "code",
      "metadata": {
        "id": "VFwyLKzcRjyY",
        "colab": {
          "base_uri": "https://localhost:8080/",
          "height": 313
        },
        "outputId": "960f3297-a9ff-4a86-a501-721a3df35a47"
      },
      "source": [
        "y_pred = dt.predict(X_test)\n",
        "from sklearn import metrics\n",
        "cf = metrics.confusion_matrix(y_test, y_pred)\n",
        "print(cf)\n",
        "metrics.plot_confusion_matrix(dt, X_test, y_test)\n",
        "plt.show()"
      ],
      "execution_count": null,
      "outputs": [
        {
          "output_type": "stream",
          "text": [
            "[[1263    0]\n",
            " [   3 1172]]\n"
          ],
          "name": "stdout"
        },
        {
          "output_type": "display_data",
          "data": {
            "image/png": "[encoded data removed]",
            "text/plain": [
              "<Figure size 432x288 with 2 Axes>"
            ]
          },
          "metadata": {
            "tags": [],
            "needs_background": "light"
          }
        }
      ]
    },
    {
      "cell_type": "markdown",
      "metadata": {
        "id": "yhdyvv48JFFd"
      },
      "source": [
        "3. Print the accuracy on the training partition?  (2 marks)\n"
      ]
    },
    {
      "cell_type": "code",
      "metadata": {
        "id": "WeQ9cOluRrL2",
        "colab": {
          "base_uri": "https://localhost:8080/"
        },
        "outputId": "8b92b27e-4f63-4a92-995a-110852be747e"
      },
      "source": [
        "training_pred = dt.predict(X_train)\n",
        "print('Accuracy =', metrics.accuracy_score(training_pred, y_train))"
      ],
      "execution_count": null,
      "outputs": [
        {
          "output_type": "stream",
          "text": [
            "Accuracy = 1.0\n"
          ],
          "name": "stdout"
        }
      ]
    },
    {
      "cell_type": "markdown",
      "metadata": {
        "id": "_aH9TPFSJGv_"
      },
      "source": [
        "4. Print the accuracy on the test partition? (2 marks)\n"
      ]
    },
    {
      "cell_type": "code",
      "metadata": {
        "id": "U4eEWJCvRwSn",
        "colab": {
          "base_uri": "https://localhost:8080/"
        },
        "outputId": "c6c457fe-6da0-4a4b-9222-85a2477a550f"
      },
      "source": [
        "print('Accuracy =', metrics.accuracy_score(y_pred,y_test,))"
      ],
      "execution_count": null,
      "outputs": [
        {
          "output_type": "stream",
          "text": [
            "Accuracy = 0.9987694831829368\n"
          ],
          "name": "stdout"
        }
      ]
    },
    {
      "cell_type": "markdown",
      "metadata": {
        "id": "_cWbOP-3JIE0"
      },
      "source": [
        "5. Show the classification tree and save it (5 marks)\n"
      ]
    },
    {
      "cell_type": "code",
      "metadata": {
        "id": "LRuYQCeNR1Dn",
        "colab": {
          "base_uri": "https://localhost:8080/",
          "height": 248
        },
        "outputId": "0e43468c-e831-4caf-b0c1-c3eb15dc7253"
      },
      "source": [
        "from sklearn import tree\n",
        "plt.figure()\n",
        "fn = X.columns\n",
        "cn = y.unique()\n",
        "irisTree = tree.plot_tree(dt, feature_names=fn, class_names=cn, filled=True)\n",
        "plt.savefig('MushroomDT.png', dpi=150)\n",
        "plt.show()"
      ],
      "execution_count": null,
      "outputs": [
        {
          "output_type": "display_data",
          "data": {
            "image/png": "[encoded data removed]",
            "text/plain": [
              "<Figure size 432x288 with 1 Axes>"
            ]
          },
          "metadata": {
            "tags": [],
            "needs_background": "light"
          }
        }
      ]
    },
    {
      "cell_type": "markdown",
      "metadata": {
        "id": "a3fM0HMSJJl8"
      },
      "source": [
        "6. Find and print the top three most important features in your decision tree for determining toxicity. (4 marks)"
      ]
    },
    {
      "cell_type": "code",
      "metadata": {
        "id": "qTkc8ga1R6kd",
        "colab": {
          "base_uri": "https://localhost:8080/"
        },
        "outputId": "f7c0137a-502c-4b0e-ba72-fac29bb617cf"
      },
      "source": [
        "# Enter your code here\n",
        "imp=pd.DataFrame(zip(X_train.columns, dt.feature_importances_))\n",
        "pd.set_option('display.max_rows',None)\n",
        "imp.columns=['Feature', 'Importance']\n",
        "imp_sorted = imp.sort_values(by=['Importance'], ascending = False)\n",
        "top3 = imp_sorted.iloc[0:3,:]\n",
        "print(top3)\n"
      ],
      "execution_count": null,
      "outputs": [
        {
          "output_type": "stream",
          "text": [
            "         Feature  Importance\n",
            "27        odor_n    0.527899\n",
            "21     bruises_t    0.212695\n",
            "53  stalk-root_c    0.067373\n"
          ],
          "name": "stdout"
        }
      ]
    },
    {
      "cell_type": "markdown",
      "metadata": {
        "id": "uye7JohHJQmN"
      },
      "source": [
        "7. Classify the following mushroom. (6 marks)\n",
        "\n",
        "class\n",
        " : **?**\n",
        "\n",
        "cap-shape\n",
        ": **x**\n",
        "\n",
        "cap-surface\n",
        ": **s**\n",
        "\n",
        "cap-color\n",
        ": **n**\n",
        "\n",
        "bruises\n",
        ": **t**\n",
        "\n",
        "odor\n",
        ": **y**\n",
        "\n",
        "gill-attachment\n",
        ": **f**\n",
        "\n",
        "gill-spacing\n",
        ": **c**\n",
        "\n",
        "gill-size\n",
        ": **n**\n",
        "\n",
        "gill-color\n",
        ": **k**\n",
        "\n",
        "stalk-shape\n",
        ": **e**\n",
        "\n",
        "stalk-root\n",
        ": **e**\n",
        "\n",
        "stalk-surface-above-ring\n",
        ": **s**\n",
        "\n",
        "stalk-surface-below-ring\n",
        ": **s**\n",
        "\n",
        "stalk-color-above-ring\n",
        ": **w**\n",
        "\n",
        "stalk-color-below-ring\n",
        ": **w**\n",
        "\n",
        "veil-type\n",
        ": **p**\n",
        "\n",
        "veil-color\n",
        ": **w**\n",
        "\n",
        "ring-number\n",
        ": **o**\n",
        "\n",
        "ring-type\n",
        ": **p**\n",
        "\n",
        "spore-print-color\n",
        ": **r**\n",
        "\n",
        "population\n",
        ": **s**\n",
        "\n",
        "habitat\n",
        ": **u**\n",
        "\n"
      ]
    },
    {
      "cell_type": "code",
      "metadata": {
        "id": "jaLW4bhtSGjh",
        "colab": {
          "base_uri": "https://localhost:8080/"
        },
        "outputId": "b9a03ba2-0c0c-4263-b08f-d1fce3b6089e"
      },
      "source": [
        "x_new = [[0,0,0,0,0,1,0,0,1,0,0,0,0,0,1,0,0,0,0,0,0,1,0,0,0,0,0,0,0,0,1,0,1,1,0,0,1,0,0,0,0,1,0,0,0,0,0,0,0,1,0,0,0,0,1,0,\n",
        "0,0,1,0,0,0,1,0,0,0,0,0,0,0,0,1,0,0,0,0,0,0,0,0,1,0,1,0,0,1,0,0,1,0,0,0,0,0,1,0,0,0,0,0,1,0,0,0,0,0,0,1,0,0,0,0,0,0,0,1,0]]\n",
        "ypre = dt.predict(x_new)\n",
        "print(ypre)\n",
        "print(\"The above mushroom is poisonous\")"
      ],
      "execution_count": null,
      "outputs": [
        {
          "output_type": "stream",
          "text": [
            "['p']\n"
          ],
          "name": "stdout"
        }
      ]
    }
  ]
}